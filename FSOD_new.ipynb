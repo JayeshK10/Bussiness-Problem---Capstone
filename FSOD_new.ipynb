{
  "nbformat": 4,
  "nbformat_minor": 0,
  "metadata": {
    "colab": {
      "name": "FSOD_new.ipynb",
      "provenance": [],
      "authorship_tag": "ABX9TyN4QEXVw6oFy3TSGPqwSPIr",
      "include_colab_link": true
    },
    "kernelspec": {
      "name": "python3",
      "display_name": "Python 3"
    },
    "language_info": {
      "name": "python"
    },
    "accelerator": "GPU"
  },
  "cells": [
    {
      "cell_type": "markdown",
      "metadata": {
        "id": "view-in-github",
        "colab_type": "text"
      },
      "source": [
        "<a href=\"https://colab.research.google.com/github/JayeshK10/Bussiness-Problem---Capstone/blob/master/FSOD_new.ipynb\" target=\"_parent\"><img src=\"https://colab.research.google.com/assets/colab-badge.svg\" alt=\"Open In Colab\"/></a>"
      ]
    },
    {
      "cell_type": "code",
      "metadata": {
        "colab": {
          "base_uri": "https://localhost:8080/"
        },
        "id": "LCs7ZG-Hy3c_",
        "outputId": "98421db6-3328-45e9-b17a-8205294ce3cd"
      },
      "source": [
        "from google.colab import drive\n",
        "drive.mount('/content/drive')"
      ],
      "execution_count": 1,
      "outputs": [
        {
          "output_type": "stream",
          "text": [
            "Mounted at /content/drive\n"
          ],
          "name": "stdout"
        }
      ]
    },
    {
      "cell_type": "code",
      "metadata": {
        "colab": {
          "base_uri": "https://localhost:8080/"
        },
        "id": "gJmnxCznzJ8C",
        "outputId": "c1fccff5-1af7-46f2-cd30-19fec50b35c5"
      },
      "source": [
        "import os\n",
        "os.chdir(\"/content/drive/MyDrive/Fewshot_Detection_\")\n",
        "%ls"
      ],
      "execution_count": 2,
      "outputs": [
        {
          "output_type": "stream",
          "text": [
            "2007_test.txt    \u001b[0m\u001b[01;34mdata\u001b[0m/            \u001b[01;34mmodels\u001b[0m/           train.py\n",
            "2007_train.txt   dataset.py       partial.py        utils.py\n",
            "2007_val.txt     debug.py         pooling.py        valid_ensemble.py\n",
            "2012_train.txt   demo.py          README.md         valid_meta.py\n",
            "2012_val.txt     detect.py        recall.py         valid.py\n",
            "\u001b[01;34mcfg\u001b[0m/             dynamic_conv.py  region_loss.py    \u001b[01;34mVOCdevkit\u001b[0m/\n",
            "cfg.py           eval.py          requirements.txt  \u001b[01;34mvoclist\u001b[0m/\n",
            "\u001b[01;34mcoco\u001b[0m/            FocalLoss.py     \u001b[01;34mscripts\u001b[0m/\n",
            "darknet_meta.py  image.py         test.txt\n",
            "darknet.py       \u001b[01;34mlayers\u001b[0m/          train_meta.py\n"
          ],
          "name": "stdout"
        }
      ]
    },
    {
      "cell_type": "code",
      "metadata": {
        "id": "SKCX5cnkzjta"
      },
      "source": [
        "!$PROJ_ROOT : /content/drive/MyDrive/Fewshot_Detection_\n",
        "!$DATA_ROOT : /content/drive/MyDrive/Fewshot_Detection_/data"
      ],
      "execution_count": 3,
      "outputs": []
    },
    {
      "cell_type": "code",
      "metadata": {
        "colab": {
          "base_uri": "https://localhost:8080/"
        },
        "id": "o28Gxdu4zkGC",
        "outputId": "146fb4c1-9d42-4551-ac47-4ef06f003862"
      },
      "source": [
        "!wget http://pjreddie.com/media/files/voc_label.py"
      ],
      "execution_count": 4,
      "outputs": [
        {
          "output_type": "stream",
          "text": [
            "--2021-03-26 12:16:16--  http://pjreddie.com/media/files/voc_label.py\n",
            "Resolving pjreddie.com (pjreddie.com)... 128.208.4.108\n",
            "Connecting to pjreddie.com (pjreddie.com)|128.208.4.108|:80... connected.\n",
            "HTTP request sent, awaiting response... 301 Moved Permanently\n",
            "Location: https://pjreddie.com/media/files/voc_label.py [following]\n",
            "--2021-03-26 12:16:16--  https://pjreddie.com/media/files/voc_label.py\n",
            "Connecting to pjreddie.com (pjreddie.com)|128.208.4.108|:443... connected.\n",
            "HTTP request sent, awaiting response... 200 OK\n",
            "Length: 2042 (2.0K) [application/octet-stream]\n",
            "Saving to: ‘voc_label.py’\n",
            "\n",
            "\rvoc_label.py          0%[                    ]       0  --.-KB/s               \rvoc_label.py        100%[===================>]   1.99K  --.-KB/s    in 0s      \n",
            "\n",
            "2021-03-26 12:16:16 (332 MB/s) - ‘voc_label.py’ saved [2042/2042]\n",
            "\n"
          ],
          "name": "stdout"
        }
      ]
    },
    {
      "cell_type": "code",
      "metadata": {
        "id": "0ExoYJU2zz2a"
      },
      "source": [
        "!python /content/drive/MyDrive/Fewshot_Detection_/data/voc_label.py"
      ],
      "execution_count": 7,
      "outputs": []
    },
    {
      "cell_type": "code",
      "metadata": {
        "id": "4nsLX0Nx0hFz"
      },
      "source": [
        "!cat 2007_train.txt 2007_val.txt 2012_*.txt > voc_train.txt"
      ],
      "execution_count": null,
      "outputs": []
    }
  ]
}